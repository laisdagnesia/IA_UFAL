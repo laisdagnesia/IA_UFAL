{
 "cells": [
  {
   "cell_type": "markdown",
   "id": "b58ba43e-db06-4ee2-ab8b-156308f040c2",
   "metadata": {},
   "source": [
    "                Desenvolvimento de um Sistema de Gerenciamento de Riscos em Projetos de Software com Redes Bayesianas\n",
    "Neste trabalho, foi desenvolvido um sistema de gerenciamento de riscos em projetos de software utilizando Redes Bayesianas. Essa abordagem permite modelar incertezas e relações causais entre variáveis relevantes ao sucesso ou fracasso de um projeto, oferecendo suporte à tomada de decisão baseada em probabilidade.\n",
    "\n",
    "A rede construída possui oito variáveis principais: experiência da equipe, complexidade do projeto, ambiente de Desenvolvimento estável, escopo definido, qualidade do código,falha na entrega de funcionalidades, atraso no cronograma e aumento de custo.\n",
    "\n",
    "As variáveis foram conectadas de acordo com suas relações de causa e efeito, representadas por um grafo acíclico direcionado (DAG). Por exemplo, a qualidade do código é influenciada pela experiência da equipe, pela estabilidade do ambiente e pela complexidade do projeto. A falha na entrega é influenciada pela qualidade, pela complexidade e pela clareza do escopo. Essas falhas, por sua vez, aumentam a chance de atraso, o qual pode gerar aumento de custos.\n",
    "\n",
    "Cada nó da rede foi modelado com TabularCPDs (Tabelas de Probabilidade Condicional. A definição dessas tabelas possibilita que, a partir de evidências observadas (por exemplo: equipe inexperiente, escopo mal definido), o sistema seja capaz de inferir probabilidades para eventos de risco, como atrasos ou aumento de custos.\n",
    "\n",
    "A inferência foi realizada por meio do algoritmo de eliminação de variáveis (Variable Elimination), implementado com a biblioteca pgmpy. Como exemplo de aplicação, o sistema foi capaz de estimar a probabilidade de aumento de custo dado um conjunto de condições críticas, como equipe inexperiente, ambiente instável e alta complexidade.\n"
   ]
  },
  {
   "cell_type": "code",
   "execution_count": 1,
   "id": "f7ad7cb8-532d-4050-a315-b2b40091cc70",
   "metadata": {},
   "outputs": [
    {
     "name": "stdout",
     "output_type": "stream",
     "text": [
      "Requirement already satisfied: pgmpy in /opt/anaconda3/lib/python3.12/site-packages (1.0.0)\n",
      "Requirement already satisfied: networkx in /opt/anaconda3/lib/python3.12/site-packages (from pgmpy) (3.3)\n",
      "Requirement already satisfied: numpy in /opt/anaconda3/lib/python3.12/site-packages (from pgmpy) (1.26.4)\n",
      "Requirement already satisfied: scipy in /opt/anaconda3/lib/python3.12/site-packages (from pgmpy) (1.13.1)\n",
      "Requirement already satisfied: scikit-learn in /opt/anaconda3/lib/python3.12/site-packages (from pgmpy) (1.5.1)\n",
      "Requirement already satisfied: pandas in /opt/anaconda3/lib/python3.12/site-packages (from pgmpy) (2.2.2)\n",
      "Requirement already satisfied: torch in /opt/anaconda3/lib/python3.12/site-packages (from pgmpy) (2.7.0)\n",
      "Requirement already satisfied: statsmodels in /opt/anaconda3/lib/python3.12/site-packages (from pgmpy) (0.14.2)\n",
      "Requirement already satisfied: tqdm in /opt/anaconda3/lib/python3.12/site-packages (from pgmpy) (4.66.5)\n",
      "Requirement already satisfied: joblib in /opt/anaconda3/lib/python3.12/site-packages (from pgmpy) (1.4.2)\n",
      "Requirement already satisfied: opt-einsum in /opt/anaconda3/lib/python3.12/site-packages (from pgmpy) (3.4.0)\n",
      "Requirement already satisfied: pyro-ppl in /opt/anaconda3/lib/python3.12/site-packages (from pgmpy) (1.9.1)\n",
      "Requirement already satisfied: python-dateutil>=2.8.2 in /opt/anaconda3/lib/python3.12/site-packages (from pandas->pgmpy) (2.9.0.post0)\n",
      "Requirement already satisfied: pytz>=2020.1 in /opt/anaconda3/lib/python3.12/site-packages (from pandas->pgmpy) (2024.1)\n",
      "Requirement already satisfied: tzdata>=2022.7 in /opt/anaconda3/lib/python3.12/site-packages (from pandas->pgmpy) (2023.3)\n",
      "Requirement already satisfied: pyro-api>=0.1.1 in /opt/anaconda3/lib/python3.12/site-packages (from pyro-ppl->pgmpy) (0.1.2)\n",
      "Requirement already satisfied: filelock in /opt/anaconda3/lib/python3.12/site-packages (from torch->pgmpy) (3.13.1)\n",
      "Requirement already satisfied: typing-extensions>=4.10.0 in /opt/anaconda3/lib/python3.12/site-packages (from torch->pgmpy) (4.11.0)\n",
      "Requirement already satisfied: setuptools in /opt/anaconda3/lib/python3.12/site-packages (from torch->pgmpy) (75.1.0)\n",
      "Requirement already satisfied: sympy>=1.13.3 in /opt/anaconda3/lib/python3.12/site-packages (from torch->pgmpy) (1.14.0)\n",
      "Requirement already satisfied: jinja2 in /opt/anaconda3/lib/python3.12/site-packages (from torch->pgmpy) (3.1.4)\n",
      "Requirement already satisfied: fsspec in /opt/anaconda3/lib/python3.12/site-packages (from torch->pgmpy) (2024.6.1)\n",
      "Requirement already satisfied: threadpoolctl>=3.1.0 in /opt/anaconda3/lib/python3.12/site-packages (from scikit-learn->pgmpy) (3.5.0)\n",
      "Requirement already satisfied: patsy>=0.5.6 in /opt/anaconda3/lib/python3.12/site-packages (from statsmodels->pgmpy) (0.5.6)\n",
      "Requirement already satisfied: packaging>=21.3 in /opt/anaconda3/lib/python3.12/site-packages (from statsmodels->pgmpy) (24.1)\n",
      "Requirement already satisfied: six in /opt/anaconda3/lib/python3.12/site-packages (from patsy>=0.5.6->statsmodels->pgmpy) (1.16.0)\n",
      "Requirement already satisfied: mpmath<1.4,>=1.1.0 in /opt/anaconda3/lib/python3.12/site-packages (from sympy>=1.13.3->torch->pgmpy) (1.3.0)\n",
      "Requirement already satisfied: MarkupSafe>=2.0 in /opt/anaconda3/lib/python3.12/site-packages (from jinja2->torch->pgmpy) (2.1.3)\n"
     ]
    },
    {
     "name": "stderr",
     "output_type": "stream",
     "text": [
      "INFO:numexpr.utils:Note: NumExpr detected 10 cores but \"NUMEXPR_MAX_THREADS\" not set, so enforcing safe limit of 8.\n",
      "INFO:numexpr.utils:NumExpr defaulting to 8 threads.\n"
     ]
    }
   ],
   "source": [
    "!pip install pgmpy --upgrade\n",
    "\n",
    "from pgmpy.models import DiscreteBayesianNetwork\n",
    "from pgmpy.factors.discrete import TabularCPD\n",
    "from pgmpy.inference import VariableElimination\n",
    "\n",
    "# estrutura da rede\n",
    "model = DiscreteBayesianNetwork([\n",
    "    ('ExperienciaEquipe', 'Qualidade'),\n",
    "    ('AmbienteDesenvEstavel', 'Qualidade'),\n",
    "    ('ComplexidadeProjeto', 'Qualidade'),\n",
    "    ('ComplexidadeProjeto', 'Falha'),\n",
    "    ('EscopoDefinido', 'Falha'),\n",
    "    ('Qualidade', 'Falha'),\n",
    "    ('Falha', 'Atraso'),\n",
    "    ('Atraso', 'Custo')\n",
    "])\n"
   ]
  },
  {
   "cell_type": "code",
   "execution_count": 2,
   "id": "3e42fc6e-61cd-4088-bc4f-f6151f89c403",
   "metadata": {},
   "outputs": [],
   "source": [
    "# tabelas de probabilidade independentes\n",
    "cpd_experiencia = TabularCPD(variable='ExperienciaEquipe', variable_card=2, values=[[0.6], [0.4]])\n",
    "cpd_complexidade = TabularCPD(variable='ComplexidadeProjeto', variable_card=2, values=[[0.5], [0.5]])\n",
    "cpd_ambiente = TabularCPD(variable='AmbienteDesenvEstavel', variable_card=2, values=[[0.7], [0.3]])\n",
    "cpd_escopo = TabularCPD(variable='EscopoDefinido', variable_card=2, values=[[0.8], [0.2]])"
   ]
  },
  {
   "cell_type": "code",
   "execution_count": 3,
   "id": "fc7978e2-fa82-4ef4-b490-eb05733d299a",
   "metadata": {},
   "outputs": [],
   "source": [
    "# CPD da qualidade (3 pais: experiência, ambiente, complexidade)\n",
    "cpd_qualidade = TabularCPD(\n",
    "    variable='Qualidade', variable_card=2,\n",
    "    values=[\n",
    "        [0.95, 0.85, 0.75, 0.6, 0.7, 0.55, 0.45, 0.3],  # alta\n",
    "        [0.05, 0.15, 0.25, 0.4, 0.3, 0.45, 0.55, 0.7]   # baixa\n",
    "    ],\n",
    "    evidence=['ExperienciaEquipe', 'AmbienteDesenvEstavel', 'ComplexidadeProjeto'],\n",
    "    evidence_card=[2, 2, 2]\n",
    ")"
   ]
  },
  {
   "cell_type": "code",
   "execution_count": 4,
   "id": "e947b239-9da5-4eec-a06d-fe12785834c3",
   "metadata": {},
   "outputs": [],
   "source": [
    "# CPD da falha (3 pais: complexidade, escopo, qualidade)\n",
    "cpd_falha = TabularCPD(\n",
    "    variable='Falha', variable_card=2,\n",
    "    values=[\n",
    "        [0.95, 0.9, 0.85, 0.8, 0.75, 0.65, 0.55, 0.4],  # não\n",
    "        [0.05, 0.1, 0.15, 0.2, 0.25, 0.35, 0.45, 0.6]   # sim\n",
    "    ],\n",
    "    evidence=['ComplexidadeProjeto', 'EscopoDefinido', 'Qualidade'],\n",
    "    evidence_card=[2, 2, 2]\n",
    ")"
   ]
  },
  {
   "cell_type": "code",
   "execution_count": 5,
   "id": "f595967a-a81c-41e1-aed4-490de753e08b",
   "metadata": {},
   "outputs": [],
   "source": [
    "# CPD do atraso (pai: falha)\n",
    "cpd_atraso = TabularCPD(\n",
    "    variable='Atraso', variable_card=2,\n",
    "    values=[\n",
    "        [0.8, 0.25],  # Não\n",
    "        [0.2, 0.75]   # Sim\n",
    "    ],\n",
    "    evidence=['Falha'], evidence_card=[2]\n",
    ")"
   ]
  },
  {
   "cell_type": "code",
   "execution_count": 6,
   "id": "299c6c4a-f382-4266-9f52-b018ba41a468",
   "metadata": {},
   "outputs": [],
   "source": [
    "# CPD do Custo (pai: atraso)\n",
    "cpd_custo = TabularCPD(\n",
    "    variable='Custo', variable_card=2,\n",
    "    values=[\n",
    "        [0.8, 0.15],  # Não\n",
    "        [0.2, 0.85]   # Sim\n",
    "    ],\n",
    "    evidence=['Atraso'], evidence_card=[2]\n",
    ")"
   ]
  },
  {
   "cell_type": "code",
   "execution_count": 7,
   "id": "32e85a07-8653-4ec0-bafe-a47c880d9984",
   "metadata": {},
   "outputs": [],
   "source": [
    "# adicionando CPDs\n",
    "model.add_cpds(\n",
    "    cpd_experiencia, cpd_complexidade, cpd_ambiente, cpd_escopo,\n",
    "    cpd_qualidade, cpd_falha, cpd_atraso, cpd_custo\n",
    ")"
   ]
  },
  {
   "cell_type": "code",
   "execution_count": 8,
   "id": "36db7880-3236-4c1b-ba1a-a309f73aec89",
   "metadata": {},
   "outputs": [
    {
     "name": "stdout",
     "output_type": "stream",
     "text": [
      "Modelo valido\n"
     ]
    }
   ],
   "source": [
    "# verificando a rede\n",
    "assert model.check_model()\n",
    "print(\"Modelo valido\")"
   ]
  },
  {
   "cell_type": "code",
   "execution_count": 9,
   "id": "711d8aff-7ee7-49e6-b723-5679649e795f",
   "metadata": {},
   "outputs": [],
   "source": [
    "# Inferência\n",
    "infer = VariableElimination(model)"
   ]
  },
  {
   "cell_type": "code",
   "execution_count": null,
   "id": "4cc63977-f40e-479d-8e5f-47e6577d102e",
   "metadata": {},
   "outputs": [
    {
     "name": "stdout",
     "output_type": "stream",
     "text": [
      "\n",
      " Probabilidade de Custo (com equipe inexperiente, projeto complexo, escopo indefinido e ambiente instável):\n",
      "+----------+--------------+\n",
      "| Custo    |   phi(Custo) |\n",
      "+==========+==============+\n",
      "| Custo(0) |       0.4716 |\n",
      "+----------+--------------+\n",
      "| Custo(1) |       0.5284 |\n",
      "+----------+--------------+\n",
      "\n",
      " Probabilidade de Atraso se houve falha na entrega:\n",
      "+-----------+---------------+\n",
      "| Atraso    |   phi(Atraso) |\n",
      "+===========+===============+\n",
      "| Atraso(0) |        0.2500 |\n",
      "+-----------+---------------+\n",
      "| Atraso(1) |        0.7500 |\n",
      "+-----------+---------------+\n",
      "\n",
      " Probabilidade de Qualidade com equipe experiente, ambiente estável e projeto simples:\n",
      "+--------------+------------------+\n",
      "| Qualidade    |   phi(Qualidade) |\n",
      "+==============+==================+\n",
      "| Qualidade(0) |           0.9500 |\n",
      "+--------------+------------------+\n",
      "| Qualidade(1) |           0.0500 |\n",
      "+--------------+------------------+\n"
     ]
    }
   ],
   "source": [
    "# exemplos\n",
    "resultado1 = infer.query(variables=['Custo'], evidence={\n",
    "    'ExperienciaEquipe': 1,\n",
    "    'ComplexidadeProjeto': 1,\n",
    "    'EscopoDefinido': 1,\n",
    "    'AmbienteDesenvEstavel': 1\n",
    "})\n",
    "print(\"\\n Probabilidade de Custo (com equipe inexperiente, projeto complexo, escopo indefinido e ambiente instável):\")\n",
    "print(resultado1)\n",
    "\n",
    "resultado2 = infer.query(variables=['Atraso'], evidence={'Falha': 1})\n",
    "print(\"\\n Probabilidade de Atraso se houve falha na entrega:\")\n",
    "print(resultado2)\n",
    "\n",
    "resultado3 = infer.query(variables=['Qualidade'], evidence={\n",
    "    'ExperienciaEquipe': 0,\n",
    "    'AmbienteDesenvEstavel': 0,\n",
    "    'ComplexidadeProjeto': 0\n",
    "})\n",
    "print(\"\\n Probabilidade de Qualidade com equipe experiente, ambiente estável e projeto simples:\")\n",
    "print(resultado3)"
   ]
  }
 ],
 "metadata": {
  "kernelspec": {
   "display_name": "base",
   "language": "python",
   "name": "python3"
  },
  "language_info": {
   "codemirror_mode": {
    "name": "ipython",
    "version": 3
   },
   "file_extension": ".py",
   "mimetype": "text/x-python",
   "name": "python",
   "nbconvert_exporter": "python",
   "pygments_lexer": "ipython3",
   "version": "3.12.7"
  }
 },
 "nbformat": 4,
 "nbformat_minor": 5
}
