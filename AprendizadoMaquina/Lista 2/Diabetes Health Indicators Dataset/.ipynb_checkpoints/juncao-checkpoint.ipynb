{
 "cells": [
  {
   "cell_type": "markdown",
   "id": "0e8d9c8d",
   "metadata": {},
   "source": [
    "# QUESTÃO 2\n"
   ]
  },
  {
   "cell_type": "markdown",
   "id": "23bde30a",
   "metadata": {},
   "source": [
    "# Análise de Risco de Crédito com Árvores de Decisão (ID3, C4.5, CART)"
   ]
  },
  {
   "cell_type": "code",
   "execution_count": null,
   "id": "64a407a5",
   "metadata": {},
   "outputs": [
    {
     "ename": "",
     "evalue": "",
     "output_type": "error",
     "traceback": [
      "\u001b[1;31mRunning cells with 'Python 3.12.4' requires the ipykernel package.\n",
      "\u001b[1;31m<a href='command:jupyter.createPythonEnvAndSelectController'>Create a Python Environment</a> with the required packages.\n",
      "\u001b[1;31mOr install 'ipykernel' using the command: '/opt/homebrew/bin/python3.12 -m pip install ipykernel -U --user --force-reinstall'"
     ]
    }
   ],
   "source": [
    "# 1) Base de Dado\n",
    "\n",
    "import pandas as pd\n",
    "from sklearn.tree import DecisionTreeClassifier, plot_tree\n",
    "import matplotlib.pyplot as plt\n",
    "\n",
    "\n",
    "dados = pd.read_csv('base.csv').to_dict(orient='records')\n",
    "df = pd.DataFrame(dados)"
   ]
  },
  {
   "cell_type": "markdown",
   "id": "6924c3f9",
   "metadata": {},
   "source": [
    "#### Arvore ID3\n"
   ]
  },
  {
   "cell_type": "code",
   "execution_count": null,
   "id": "71fc7d52",
   "metadata": {},
   "outputs": [],
   "source": [
    "X = df[[\"História de Crédito\", \"Renda\"]]\n",
    "y = df[\"Risco\"]\n",
    "\n",
    "X_enc = pd.get_dummies(X)\n",
    "\n",
    "# Treina modelo\n",
    "clf = DecisionTreeClassifier(criterion=\"entropy\", random_state=42)\n",
    "clf.fit(X_enc, y)\n",
    "\n",
    "plt.figure(figsize=(8,6))\n",
    "plot_tree(\n",
    "    clf,\n",
    "    feature_names=X_enc.columns,\n",
    "    class_names=clf.classes_,\n",
    "    filled=True,\n",
    "    rounded=True,\n",
    "    fontsize=10\n",
    ")\n",
    "plt.show()\n"
   ]
  },
  {
   "cell_type": "markdown",
   "id": "736716c3",
   "metadata": {},
   "source": [
    "#### Árvore de Decisão C4.5"
   ]
  },
  {
   "cell_type": "code",
   "execution_count": null,
   "id": "a35daed2",
   "metadata": {},
   "outputs": [],
   "source": [
    "X_c45 = df[[\"Renda\", \"História de Crédito\", \"Garantia\"]]\n",
    "y_c45 = df[\"Risco\"]\n",
    "\n",
    "X_c45_enc = pd.get_dummies(X_c45)\n",
    "\n",
    "# Treinar árvore\n",
    "clf_c45 = DecisionTreeClassifier(\n",
    "    criterion=\"entropy\",\n",
    "    min_samples_leaf=1,\n",
    "    ccp_alpha=0.01,\n",
    "    random_state=42\n",
    ")\n",
    "clf_c45.fit(X_c45_enc, y_c45)\n",
    "\n",
    "plt.figure(figsize=(10,6))\n",
    "plot_tree(\n",
    "    clf_c45,\n",
    "    feature_names=X_c45_enc.columns,\n",
    "    class_names=clf_c45.classes_,\n",
    "    filled=True,\n",
    "    rounded=True,\n",
    "    fontsize=10\n",
    ")\n",
    "plt.show()\n"
   ]
  },
  {
   "cell_type": "markdown",
   "id": "5109d47b",
   "metadata": {},
   "source": [
    "#### Árvore de Decisão CART"
   ]
  },
  {
   "cell_type": "code",
   "execution_count": null,
   "id": "108b5582",
   "metadata": {},
   "outputs": [],
   "source": [
    "dados = pd.read_csv('base.csv').to_dict(orient='records')\n",
    "df = pd.DataFrame(dados)\n",
    "\n",
    "X_cart = df[[\"História de Crédito\", \"Renda\"]]\n",
    "y_cart = df[\"Risco\"]\n",
    "\n",
    "X_cart_enc = pd.get_dummies(X_cart)\n",
    "\n",
    "# Treinar árvore\n",
    "clf_cart = DecisionTreeClassifier(\n",
    "    criterion=\"gini\",\n",
    "    random_state=42\n",
    ")\n",
    "clf_cart.fit(X_cart_enc, y_cart)\n",
    "\n",
    "plt.figure(figsize=(8,6))\n",
    "plot_tree(\n",
    "    clf_cart,\n",
    "    feature_names=X_cart_enc.columns,\n",
    "    class_names=clf_cart.classes_,\n",
    "    filled=True,\n",
    "    rounded=True,\n",
    "    fontsize=10\n",
    ")\n",
    "plt.show()\n"
   ]
  },
  {
   "cell_type": "markdown",
   "id": "76a73b19",
   "metadata": {},
   "source": [
    "#  QUESTÃO 3 ARVORE DE DECISÃO - DIABETES"
   ]
  },
  {
   "cell_type": "markdown",
   "id": "c71af1a1",
   "metadata": {},
   "source": [
    "#### BASE DE DADOS"
   ]
  },
  {
   "cell_type": "code",
   "execution_count": null,
   "id": "0bc51c3f",
   "metadata": {},
   "outputs": [],
   "source": [
    "import pandas as pd\n",
    "from sklearn.tree import DecisionTreeClassifier \n",
    "from sklearn.model_selection import train_test_split \n",
    "from sklearn import metrics "
   ]
  },
  {
   "cell_type": "code",
   "execution_count": null,
   "id": "b431e87f",
   "metadata": {},
   "outputs": [],
   "source": [
    "col_names = ['gravida', 'glicose', 'bp', 'pele', 'insulina', 'bmi', 'pedigree', 'idade', 'label']\n",
    "\n",
    "dados = pd.read_csv(\"diabetes.csv\", header=1, names=col_names)\n",
    "dados.head(10)"
   ]
  },
  {
   "cell_type": "code",
   "execution_count": null,
   "id": "0ef7eea2",
   "metadata": {},
   "outputs": [],
   "source": [
    "#dividi dataset em features e variavel target\n",
    "feature_cols = ['gravida', 'insulina', 'bmi', 'idade','glicose','bp','pedigree']\n",
    "X = dados[feature_cols] #features\n",
    "y = dados.label # target "
   ]
  },
  {
   "cell_type": "markdown",
   "id": "48596c1f",
   "metadata": {},
   "source": [
    "#### TREINAMENTO"
   ]
  },
  {
   "cell_type": "code",
   "execution_count": null,
   "id": "45955845",
   "metadata": {},
   "outputs": [],
   "source": [
    "# divide em treino 70% e teste 30%\n",
    "X_train, X_test, y_train, y_test = train_test_split(X, y, test_size=0.3, random_state=1)\n"
   ]
  },
  {
   "cell_type": "markdown",
   "id": "11c76336",
   "metadata": {},
   "source": [
    "#### ARVORE DE DECISAO E TREINAMENTO"
   ]
  },
  {
   "cell_type": "code",
   "execution_count": null,
   "id": "134ce8e5",
   "metadata": {},
   "outputs": [],
   "source": [
    "# arvore de decisão\n",
    "clf = DecisionTreeClassifier()\n",
    "\n",
    "# clf = DecisionTreeClassifier(\n",
    "#     criterion=\"entropy\",\n",
    "#     class_weight=\"balanced\",\n",
    "#     max_depth=8,            \n",
    "#     min_samples_leaf=20,\n",
    "#     random_state=42\n",
    "# )\n",
    "\n",
    "# Treinar a árvore de decisão\n",
    "clf = clf.fit(X_train,y_train)\n",
    "\n",
    "# Prever a resposta para o conjunto de teste\n",
    "y_pred = clf.predict(X_test)\n",
    "print(\"Acurácia:\",metrics.accuracy_score(y_test, y_pred))"
   ]
  },
  {
   "cell_type": "markdown",
   "id": "045079e8",
   "metadata": {},
   "source": [
    "#### Otimização do desempenho da árvore de decisão"
   ]
  },
  {
   "cell_type": "code",
   "execution_count": null,
   "id": "778bc7b6",
   "metadata": {},
   "outputs": [],
   "source": [
    "clf = DecisionTreeClassifier(criterion=\"entropy\", max_depth=3)\n",
    "\n",
    "clf = clf.fit(X_train,y_train)\n",
    "\n",
    "y_pred = clf.predict(X_test)\n",
    "\n",
    "print(\"Acuracia:\",metrics.accuracy_score(y_test, y_pred))\n",
    "\n"
   ]
  },
  {
   "cell_type": "code",
   "execution_count": null,
   "id": "902d39e1",
   "metadata": {},
   "outputs": [],
   "source": [
    "print(clf.classes_)"
   ]
  },
  {
   "cell_type": "markdown",
   "id": "3a27a3bb",
   "metadata": {},
   "source": [
    "#### Métricas"
   ]
  },
  {
   "cell_type": "code",
   "execution_count": null,
   "id": "540a8675",
   "metadata": {},
   "outputs": [],
   "source": [
    "import numpy as np\n",
    "from sklearn.metrics import (\n",
    "    accuracy_score, precision_score, recall_score, f1_score,\n",
    "    roc_auc_score, classification_report, confusion_matrix, ConfusionMatrixDisplay\n",
    ")\n",
    "import matplotlib.pyplot as plt\n",
    "\n",
    "acc = accuracy_score(y_test, y_pred)\n",
    "prec = precision_score(y_test, y_pred, zero_division=0)\n",
    "rec = recall_score(y_test, y_pred, zero_division=0)\n",
    "f1  = f1_score(y_test, y_pred, zero_division=0)\n",
    "\n",
    "\n",
    "print(f\"Acurácia:  {acc:.3f}\")\n",
    "print(f\"Precisão:  {prec:.3f}\")\n",
    "print(f\"Recall:    {rec:.3f}\")\n",
    "print(f\"F1-Score:  {f1:.3f}\")\n",
    "\n",
    "\n",
    "print(\"\\nRelatório de Classificação:\")\n",
    "print(classification_report(y_test, y_pred, digits=3))\n"
   ]
  },
  {
   "cell_type": "markdown",
   "id": "28768e2f",
   "metadata": {},
   "source": [
    "#### MATRIZ DE CONFUSAO"
   ]
  },
  {
   "cell_type": "code",
   "execution_count": null,
   "id": "208fa3fd",
   "metadata": {},
   "outputs": [],
   "source": [
    "cm = confusion_matrix(y_test, y_pred)\n",
    "labels = ['baixo','alto'] \n",
    "disp = ConfusionMatrixDisplay(confusion_matrix=cm, display_labels=labels)\n",
    "fig, ax = plt.subplots(figsize=(4,4))\n",
    "disp.plot(ax=ax, values_format=\"d\", colorbar=False)\n",
    "plt.title(\"Matriz de Confusão — Árvore de Decisão\")\n",
    "plt.tight_layout()\n",
    "plt.show()"
   ]
  },
  {
   "cell_type": "markdown",
   "id": "5c1ff167",
   "metadata": {},
   "source": [
    "#### FIGURA ARVORE DE DECISÃO"
   ]
  },
  {
   "cell_type": "code",
   "execution_count": null,
   "id": "18d70ec7",
   "metadata": {},
   "outputs": [],
   "source": [
    "!pip install pydotplus graphviz\n",
    "\n",
    "from io import StringIO\n",
    "from IPython.display import Image\n",
    "from sklearn.tree import export_graphviz\n",
    "import pydotplus\n",
    "\n",
    "\n",
    "dot_data = StringIO()\n",
    "export_graphviz(\n",
    "    clf,                       \n",
    "    out_file=dot_data,\n",
    "    filled=True, rounded=True,\n",
    "    special_characters=True,\n",
    "    feature_names=feature_cols,\n",
    "    class_names=['baixo consumo','alto consumo']\n",
    ")\n",
    "\n",
    "graph = pydotplus.graph_from_dot_data(dot_data.getvalue())\n",
    "graph.write_png(\"arvore_decisao.png\")\n",
    "Image(graph.create_png())\n"
   ]
  },
  {
   "cell_type": "markdown",
   "id": "ecdbc373",
   "metadata": {},
   "source": [
    "#### REGRAS"
   ]
  },
  {
   "cell_type": "code",
   "execution_count": null,
   "id": "5c24e978",
   "metadata": {},
   "outputs": [],
   "source": [
    "from sklearn.tree import export_text\n",
    "rules_text = export_text(\n",
    "    clf,\n",
    "    feature_names=feature_cols if feature_cols is not None else None,\n",
    "    decimals=2,\n",
    "    show_weights=True\n",
    ")\n",
    "print(rules_text)\n",
    "\n",
    "with open(\"regras_arvore.txt\", \"w\", encoding=\"utf-8\") as f:\n",
    "    f.write(rules_text)\n",
    "print(\"Regras salvas\")"
   ]
  },
  {
   "cell_type": "markdown",
   "id": "e97a4485",
   "metadata": {},
   "source": [
    "#### ALGORITMO RIPPER (JRip)"
   ]
  },
  {
   "cell_type": "code",
   "execution_count": null,
   "id": "9416d994",
   "metadata": {},
   "outputs": [],
   "source": [
    "!pip install wittgenstein imbalanced-learn\n"
   ]
  },
  {
   "cell_type": "code",
   "execution_count": null,
   "id": "41094737",
   "metadata": {},
   "outputs": [],
   "source": [
    "import numpy as np\n",
    "import pandas as pd\n",
    "import matplotlib.pyplot as plt\n",
    "\n",
    "from sklearn.model_selection import train_test_split\n",
    "from sklearn.metrics import (\n",
    "    accuracy_score, precision_score, recall_score, f1_score,\n",
    "    classification_report, confusion_matrix, ConfusionMatrixDisplay\n",
    ")\n",
    "\n",
    "import wittgenstein as lw\n",
    "\n"
   ]
  },
  {
   "cell_type": "code",
   "execution_count": null,
   "id": "e82d1d23",
   "metadata": {},
   "outputs": [],
   "source": [
    "RANDOM_STATE = 42\n",
    "np.random.seed(RANDOM_STATE)\n",
    "\n",
    "# Preenche NaN numéricos com mediana; categóricos com modo\n",
    "X_train_proc = X_train.copy()\n",
    "X_test_proc  = X_test.copy()\n",
    "\n",
    "for col in X_train_proc.columns:\n",
    "    if pd.api.types.is_numeric_dtype(X_train_proc[col]):\n",
    "        med = X_train_proc[col].median()\n",
    "        X_train_proc[col] = X_train_proc[col].fillna(med)\n",
    "        X_test_proc[col]  = X_test_proc[col].fillna(med)\n",
    "    else:\n",
    "        mode = X_train_proc[col].mode(dropna=True)\n",
    "        fill = mode.iloc[0] if len(mode) else \"NA\"\n",
    "        X_train_proc[col] = X_train_proc[col].fillna(fill)\n",
    "        X_test_proc[col]  = X_test_proc[col].fillna(fill)\n",
    "\n",
    "pos_cl = 1 \n",
    "\n",
    "df_train = X_train_proc.copy()\n",
    "df_train[\"__target__\"] = y_train.values\n",
    "\n",
    "ripper = lw.RIPPER(random_state=RANDOM_STATE)\n",
    "ripper.fit(df_train, class_feat=\"__target__\", pos_class=pos_cl)\n",
    "\n",
    "print(\" REGRAS APRENDIDAS - RIPPER \")\n",
    "print(ripper.ruleset_.out_pretty())"
   ]
  },
  {
   "cell_type": "code",
   "execution_count": null,
   "id": "6285c338-4794-49fd-933b-8a07fc21da66",
   "metadata": {},
   "outputs": [],
   "source": [
    "y_pred = ripper.predict(X_test_proc)\n",
    "\n",
    "acc = accuracy_score(y_test, y_pred)\n",
    "prec = precision_score(y_test, y_pred, zero_division=0)\n",
    "rec = recall_score(y_test, y_pred, zero_division=0)\n",
    "f1  = f1_score(y_test, y_pred, zero_division=0)\n",
    "\n",
    "print(f\"Acurácia:  {acc:.3f}\")\n",
    "print(f\"Precisão:  {prec:.3f}\")\n",
    "print(f\"Recall:    {rec:.3f}\")\n",
    "print(f\"F1-Score:  {f1:.3f}\\n\")\n",
    "\n",
    "print(\"Relatório de Classificação:\")\n",
    "print(classification_report(y_test, y_pred, digits=3))\n",
    "\n",
    "cm = confusion_matrix(y_test, y_pred)\n",
    "disp = ConfusionMatrixDisplay(cm, display_labels=[\"baixo \",\"alto\"])\n",
    "fig, ax = plt.subplots(figsize=(4,4))\n",
    "disp.plot(ax=ax, values_format=\"d\", colorbar=False)\n",
    "plt.title(\"Matriz de Confusão — RIPPER\")\n",
    "plt.tight_layout()\n",
    "plt.show()\n"
   ]
  },
  {
   "cell_type": "code",
   "execution_count": null,
   "id": "b9ce905a-dd56-44e3-ae9a-9a54d1c0db18",
   "metadata": {},
   "outputs": [],
   "source": []
  }
 ],
 "metadata": {
  "kernelspec": {
   "display_name": "Python 3",
   "language": "python",
   "name": "python3"
  },
  "language_info": {
   "codemirror_mode": {
    "name": "ipython",
    "version": 3
   },
   "file_extension": ".py",
   "mimetype": "text/x-python",
   "name": "python",
   "nbconvert_exporter": "python",
   "pygments_lexer": "ipython3",
   "version": "3.12.4"
  }
 },
 "nbformat": 4,
 "nbformat_minor": 5
}
